{
 "cells": [
  {
   "cell_type": "code",
   "execution_count": 39,
   "id": "b45e3020",
   "metadata": {},
   "outputs": [],
   "source": [
    "import numpy as np\n",
    "import pandas as pd\n",
    "import os, sys\n",
    "import matplotlib.pyplot as plt\n",
    "import sys\n",
    "from PIL import Image, ImageOps\n",
    "from pathlib import Path\n",
    "from keras.preprocessing.image import img_to_array\n",
    "\n",
    "from keras.datasets import mnist\n",
    "import numpy as np\n",
    "import numpy as np\n",
    "import pandas as pd\n",
    "import os, sys\n",
    "import matplotlib.pyplot as plt\n",
    "import sys\n",
    "from PIL import Image, ImageOps\n",
    "from pathlib import Path\n",
    "\n",
    "from keras.datasets import mnist\n",
    "import numpy as np\n",
    "import matplotlib.pyplot as plt\n",
    "import seaborn as sns\n",
    "\n",
    "import keras\n",
    "from keras.models import Sequential\n",
    "from keras.layers import Dense, Conv2D , MaxPool2D , Flatten , Dropout \n",
    "from keras.preprocessing.image import ImageDataGenerator\n",
    "#from keras.optimizers import Adam\n",
    "\n",
    "from sklearn.metrics import classification_report,confusion_matrix\n",
    "from tensorflow.keras.utils import to_categorical\n",
    "\n",
    "import tensorflow as tf"
   ]
  },
  {
   "cell_type": "code",
   "execution_count": 136,
   "id": "e3d80dcc",
   "metadata": {},
   "outputs": [],
   "source": [
    "# binning cuteness by pawpularity score this is just 0 or 1 but we can play around with it\n",
    "\n",
    "df['cuteness_bin'] = df['Pawpularity'].apply(lambda x: 1 if x >= 70 else 0)\n"
   ]
  },
  {
   "cell_type": "code",
   "execution_count": 142,
   "id": "b06d2cdb",
   "metadata": {},
   "outputs": [
    {
     "data": {
      "text/plain": [
       "(9912, 20, 20, 3)"
      ]
     },
     "execution_count": 142,
     "metadata": {},
     "output_type": "execute_result"
    }
   ],
   "source": [
    "# importing and resizing image data \n",
    "path = \"/Users/madelinewhitlow/Desktop/MIDS_W207/petfinder-pawpularity-score/train.csv\"\n",
    "df = pd.read_csv(path)\n",
    "df['path'] = '/Users/madelinewhitlow/Desktop/MIDS_W207/petfinder-pawpularity-score/train/'+df['Id'] + '.jpg'\n",
    "csv_path = \"/Users/madelinewhitlow/Desktop/MIDS_W207/petfinder-pawpularity-score/train.csv\"\n",
    "\n",
    "df['img'] = df['path'].apply(lambda x: Image.open(x).convert(\"RGB\").resize((20,20)))\n",
    "#df['img'] = df['path'].apply(lambda x: ImageOps.grayscale(Image.open(x).resize((20,20))))\n",
    "df['cuteness_bin'] = df['Pawpularity'].apply(lambda x: 1 if x >= 70 else 0)\n",
    "\n",
    "\n",
    "df['img_array'] = df['img'].apply(lambda x: img_to_array(x)/255)\n",
    "\n",
    "#print(trainMdata.head())\n",
    "labels=[]\n",
    "imgArr=[]\n",
    "\n",
    "for ind in df.index:\n",
    "    img = df.img_array[0]\n",
    "    imgArr.append(img)\n",
    "    labels.append(df['cuteness_bin'][ind])\n",
    "\n",
    "labels = np.array(labels)\n",
    "X_train=np.array(imgArr, dtype=float)\n",
    "X_train.shape"
   ]
  },
  {
   "cell_type": "code",
   "execution_count": 139,
   "id": "600ca3bd",
   "metadata": {},
   "outputs": [
    {
     "data": {
      "text/plain": [
       "array([0, 0, 0, ..., 0, 0, 0])"
      ]
     },
     "execution_count": 139,
     "metadata": {},
     "output_type": "execute_result"
    }
   ],
   "source": []
  },
  {
   "cell_type": "code",
   "execution_count": 143,
   "id": "4b12aebe",
   "metadata": {},
   "outputs": [
    {
     "name": "stdout",
     "output_type": "stream",
     "text": [
      "data shape:  (9912, 20, 20, 3)\n",
      "label shape: (9912,)\n"
     ]
    },
    {
     "data": {
      "text/plain": [
       "(7921, 2)"
      ]
     },
     "execution_count": 143,
     "metadata": {},
     "output_type": "execute_result"
    }
   ],
   "source": [
    "shuffle = np.random.permutation(np.arange(X_train.shape[0]))\n",
    "\n",
    "X_train, labels = X_train[shuffle], labels[shuffle]\n",
    "\n",
    "print('data shape: ', X_train.shape)\n",
    "print('label shape:', labels.shape)\n",
    "\n",
    "# Set some variables to hold test, dev, and training data.\n",
    "test_data, test_labels = X_train[8916:], labels[8916:]\n",
    "dev_data, dev_labels = X_train[7920:8916], labels[7920:8916]\n",
    "train_data, train_labels = X_train[:7921], labels[:7921]\n",
    "\n",
    "\n",
    "test_labels1 = to_categorical(test_labels)\n",
    "train_labels1 = to_categorical(train_labels)\n",
    "train_labels1.shape\n"
   ]
  },
  {
   "cell_type": "code",
   "execution_count": 144,
   "id": "7e3e2d62",
   "metadata": {},
   "outputs": [
    {
     "name": "stdout",
     "output_type": "stream",
     "text": [
      "Epoch 1/3\n",
      "248/248 [==============================] - 6s 20ms/step - loss: 0.3212 - accuracy: 0.9066 - val_loss: 0.2709 - val_accuracy: 0.9247\n",
      "Epoch 2/3\n",
      "248/248 [==============================] - 5s 22ms/step - loss: 0.3108 - accuracy: 0.9091 - val_loss: 0.2750 - val_accuracy: 0.9247\n",
      "Epoch 3/3\n",
      "248/248 [==============================] - 4s 18ms/step - loss: 0.3119 - accuracy: 0.9091 - val_loss: 0.2677 - val_accuracy: 0.9247\n",
      "32/32 [==============================] - 0s 5ms/step - loss: 0.2677 - accuracy: 0.9247\n",
      "\n",
      "Test loss: 0.2677113115787506\n",
      "Test accuracy: 0.9246987700462341\n"
     ]
    }
   ],
   "source": [
    "shape = (20,20, 3)\n",
    "\n",
    "# switch out activation to 'sigmoid'\n",
    "# try different pixel amounts (100x100) (20x20) etc\n",
    "#try binary crosstentropy vs categorical \n",
    "#adjust epochs\n",
    "from keras.models import Sequential\n",
    "from keras.layers import Dense, Conv2D, Flatten \n",
    "from keras.layers import MaxPooling2D, Dropout\n",
    "\n",
    "\n",
    "model = Sequential()#add model layers\n",
    "model.add(Conv2D(32, kernel_size=(5, 5),\n",
    "                     activation='relu',\n",
    "                     input_shape=shape))\n",
    "model.add(MaxPooling2D(pool_size=(2, 2)))\n",
    "# add second convolutional layer with 20 filters\n",
    "model.add(Conv2D(64, (5, 5), activation='relu'))\n",
    "    \n",
    "# add 2D pooling layer\n",
    "model.add(MaxPooling2D(pool_size=(2, 2)))\n",
    "    \n",
    "# flatten data\n",
    "model.add(Flatten())\n",
    "    \n",
    "# add a dense all-to-all relu layer\n",
    "model.add(Dense(1024, activation='relu'))\n",
    "    \n",
    "# apply dropout with rate 0.5\n",
    "model.add(Dropout(0.5))\n",
    "    \n",
    "# soft-max layer\n",
    "model.add(Dense(2, activation='softmax'))\n",
    "#compile model using accuracy to measure model performance\n",
    "model.compile(optimizer='adam', loss='categorical_crossentropy', metrics=['accuracy'])\n",
    "#train the model\n",
    "model.fit(train_data,train_labels1, validation_data=(test_data, test_labels1), epochs=3)\n",
    "# evaluate the model\n",
    "score = model.evaluate(test_data, test_labels1, verbose=1)\n",
    "# print performance\n",
    "print()\n",
    "print('Test loss:', score[0])\n",
    "print('Test accuracy:', score[1])\n"
   ]
  },
  {
   "cell_type": "code",
   "execution_count": 118,
   "id": "f0dfc208",
   "metadata": {},
   "outputs": [],
   "source": [
    "import time\n",
    "import numpy as np\n",
    "import pandas as pd\n",
    "import matplotlib.pyplot as plt\n",
    "from matplotlib.ticker import MultipleLocator\n",
    "from sklearn.pipeline import Pipeline\n",
    "from sklearn.datasets import fetch_openml\n",
    "from sklearn.neighbors import KNeighborsClassifier\n",
    "from sklearn.metrics import confusion_matrix\n",
    "from sklearn.linear_model import LinearRegression\n",
    "from sklearn.naive_bayes import BernoulliNB\n",
    "from sklearn.naive_bayes import MultinomialNB\n",
    "from sklearn.naive_bayes import GaussianNB\n",
    "from sklearn.model_selection import GridSearchCV\n",
    "from sklearn.metrics import classification_report\n",
    "from sklearn import metrics\n",
    "from tensorflow.keras.regularizers import l2\n"
   ]
  },
  {
   "cell_type": "code",
   "execution_count": 100,
   "id": "fb97e7b6",
   "metadata": {},
   "outputs": [
    {
     "name": "stdout",
     "output_type": "stream",
     "text": [
      "accuracy:  0.008032128514056224\n"
     ]
    }
   ],
   "source": [
    "train_data_temp = train_data.reshape(7921,30000)\n",
    "test_data_temp = test_data.reshape(996, 30000)\n",
    "\n",
    "model1 = KNeighborsClassifier(n_neighbors=1)\n",
    "model1.fit(train_data_temp, train_labels)\n",
    "test_predicted_labels = model1.predict(test_data_temp)\n",
    "print(\"accuracy: \",metrics.accuracy_score(test_labels, test_predicted_labels))\n"
   ]
  },
  {
   "cell_type": "code",
   "execution_count": 99,
   "id": "8ff58c4f",
   "metadata": {},
   "outputs": [
    {
     "name": "stdout",
     "output_type": "stream",
     "text": [
      "Bernoulli Model (Binary) accuracy: 0.0231\n"
     ]
    }
   ],
   "source": [
    "naive_bayes_model1 = BernoulliNB()\n",
    "naive_bayes_model1.fit(train_data_temp, train_labels)\n",
    "print ('Bernoulli Model accuracy: %3.4f' %naive_bayes_model1.score(test_data_temp, test_labels))"
   ]
  },
  {
   "cell_type": "code",
   "execution_count": 98,
   "id": "b5e50a96",
   "metadata": {},
   "outputs": [
    {
     "data": {
      "text/plain": [
       "(7921,)"
      ]
     },
     "execution_count": 98,
     "metadata": {},
     "output_type": "execute_result"
    }
   ],
   "source": []
  },
  {
   "cell_type": "code",
   "execution_count": 133,
   "id": "410ce127",
   "metadata": {},
   "outputs": [
    {
     "name": "stdout",
     "output_type": "stream",
     "text": [
      "Epoch 1/3\n",
      "247/247 [==============================] - 11s 39ms/step - loss: 0.4715 - rmse: 0.5217 - mae: 0.3872 - mape: 377154464.0000 - val_loss: 0.2041 - val_rmse: 0.1028 - val_mae: 0.0467 - val_mape: 37183044.0000\n",
      "Epoch 2/3\n",
      "247/247 [==============================] - 8s 31ms/step - loss: 0.2414 - rmse: 0.2235 - mae: 0.1613 - mape: 151540160.0000 - val_loss: 0.1989 - val_rmse: 0.0991 - val_mae: 0.0158 - val_mape: 5919092.5000\n",
      "Epoch 3/3\n",
      "247/247 [==============================] - 9s 36ms/step - loss: 0.2053 - rmse: 0.1373 - mae: 0.0826 - mape: 72785976.0000 - val_loss: 0.1935 - val_rmse: 0.0993 - val_mae: 0.0119 - val_mape: 2055935.8750\n"
     ]
    }
   ],
   "source": [
    "# model from kaggle page \n",
    "# https://www.kaggle.com/alexteboul/tutorial-part-3-cnn-image-modeling-1\n",
    "\n",
    "# this accuracy seems ot be higher we could mess around with different filters/padding etc\n",
    "\n",
    "inputs = tf.keras.Input(shape=(20,20,3))\n",
    "\n",
    "#start off with x just being those inputs\n",
    "x = inputs\n",
    "\n",
    "x = tf.keras.layers.Conv2D(filters = 16, kernel_size = (7,7), strides = (2,2), padding='valid', kernel_initializer='he_normal', kernel_regularizer=l2(0.0005), activation = 'relu')(x)\n",
    "x = tf.keras.layers.Conv2D(filters = 32, kernel_size = (3,3), padding='same', activation = 'relu')(x)\n",
    "x = tf.keras.layers.BatchNormalization()(x)\n",
    "x = tf.keras.layers.Conv2D(filters = 32, kernel_size = (3,3), strides = (2,2), padding='same', kernel_initializer='he_normal', kernel_regularizer=l2(0.0005), activation = 'relu')(x)\n",
    "x = tf.keras.layers.BatchNormalization()(x)\n",
    "x = tf.keras.layers.Dropout(0.25)(x)\n",
    "\n",
    "\n",
    "x = tf.keras.layers.Conv2D(filters = 64, kernel_size = (3,3), padding='same', kernel_initializer='he_normal', kernel_regularizer=l2(0.0002), activation = 'relu')(x)\n",
    "x = tf.keras.layers.BatchNormalization()(x)\n",
    "x = tf.keras.layers.Conv2D(filters = 64, kernel_size = (3,3), strides = (2,2), padding='same', kernel_initializer='he_normal', kernel_regularizer=l2(0.0005), activation = 'relu')(x)\n",
    "x = tf.keras.layers.BatchNormalization()(x)\n",
    "x = tf.keras.layers.Dropout(0.25)(x)\n",
    "\n",
    "x = tf.keras.layers.Conv2D(filters = 128, kernel_size = (3,3), padding='same', kernel_initializer='he_normal', kernel_regularizer=l2(0.0002), activation = 'relu')(x)\n",
    "x = tf.keras.layers.BatchNormalization()(x)\n",
    "x = tf.keras.layers.MaxPooling2D(pool_size=(2, 2))(x)\n",
    "x = tf.keras.layers.Conv2D(filters = 128, kernel_size = (3,3),padding='same', kernel_initializer='he_normal', kernel_regularizer=l2(0.0002), activation = 'relu')(x)\n",
    "x = tf.keras.layers.BatchNormalization()(x)\n",
    "x = tf.keras.layers.Dropout(0.25)(x)\n",
    "\n",
    "x = tf.keras.layers.Flatten()(x)\n",
    "x = tf.keras.layers.Dense(512, activation = \"relu\")(x)\n",
    "x = tf.keras.layers.Dropout(0.5)(x)\n",
    "\n",
    "output = tf.keras.layers.Dense(1)(x)\n",
    "\n",
    "model = tf.keras.Model(inputs = inputs, outputs = output)\n",
    "\n",
    "model.compile(\n",
    "    loss = 'mse', \n",
    "    optimizer = 'Adam', \n",
    "    metrics = [tf.keras.metrics.RootMeanSquaredError(name=\"rmse\"), \"mae\", \"mape\"])\n",
    "\n",
    "data_augmentation = ImageDataGenerator(\n",
    "    rotation_range = 15, \n",
    "    zoom_range = 0.15,\n",
    "    width_shift_range = 0.2, \n",
    "    height_shift_range = 0.2, \n",
    "    shear_range = 0.1,\n",
    "    horizontal_flip = True, \n",
    "    fill_mode = \"nearest\")\n",
    "history = model.fit(\n",
    "    data_augmentation.flow(train_data,train_labels2,batch_size=32),\n",
    "    validation_data = (train_data, train_labels2),\n",
    "    steps_per_epoch = len(blurred) // 32,\n",
    "    epochs = 3\n",
    ")"
   ]
  },
  {
   "cell_type": "code",
   "execution_count": 134,
   "id": "3d95093a",
   "metadata": {},
   "outputs": [
    {
     "name": "stdout",
     "output_type": "stream",
     "text": [
      "248/248 [==============================] - 1s 4ms/step - loss: 0.1935 - rmse: 0.0993 - mae: 0.0119 - mape: 2055935.8750\n",
      "Test accuracy: 0.09931846708059311\n"
     ]
    }
   ],
   "source": [
    "score = model.evaluate(train_data, train_labels2, verbose=1)\n",
    "print('Test accuracy:', score[1])"
   ]
  },
  {
   "cell_type": "code",
   "execution_count": 129,
   "id": "313d5a90",
   "metadata": {},
   "outputs": [],
   "source": [
    "from scipy.ndimage import gaussian_filter\n",
    "\n",
    "blurred = gaussian_filter(train_data, sigma=1)\n",
    "blurred_test = gaussian_filter(test_data, sigma = 1)"
   ]
  },
  {
   "cell_type": "code",
   "execution_count": 125,
   "id": "3012737f",
   "metadata": {},
   "outputs": [
    {
     "data": {
      "text/plain": [
       "(7921, 20, 20, 3)"
      ]
     },
     "execution_count": 125,
     "metadata": {},
     "output_type": "execute_result"
    }
   ],
   "source": [
    "blurred.shape"
   ]
  },
  {
   "cell_type": "code",
   "execution_count": 127,
   "id": "583c841c",
   "metadata": {},
   "outputs": [
    {
     "data": {
      "text/plain": [
       "array([[[0.66563438, 0.67693079, 0.69324438],\n",
       "        [0.67378891, 0.68609149, 0.70331014],\n",
       "        [0.68269266, 0.69525044, 0.71267463],\n",
       "        ...,\n",
       "        [0.67671293, 0.68050342, 0.68617268],\n",
       "        [0.66697128, 0.67161729, 0.67821972],\n",
       "        [0.66250991, 0.66711542, 0.6732294 ]],\n",
       "\n",
       "       [[0.61163758, 0.61984745, 0.63285074],\n",
       "        [0.62884681, 0.63977118, 0.65538396],\n",
       "        [0.64293002, 0.65535715, 0.67239378],\n",
       "        ...,\n",
       "        [0.68520161, 0.68775514, 0.69255184],\n",
       "        [0.67218258, 0.67512314, 0.68030257],\n",
       "        [0.65523914, 0.65851814, 0.66389432]],\n",
       "\n",
       "       [[0.58718125, 0.59409526, 0.60510553],\n",
       "        [0.61642968, 0.62668626, 0.64084679],\n",
       "        [0.63559944, 0.6476695 , 0.66349508],\n",
       "        ...,\n",
       "        [0.58700571, 0.58942875, 0.59392471],\n",
       "        [0.57105922, 0.57372549, 0.57841638],\n",
       "        [0.54878766, 0.55213474, 0.55749582]],\n",
       "\n",
       "       ...,\n",
       "\n",
       "       [[0.51751184, 0.51022146, 0.49826039],\n",
       "        [0.52329185, 0.51651591, 0.50559523],\n",
       "        [0.53945945, 0.53201545, 0.52104739],\n",
       "        ...,\n",
       "        [0.67052712, 0.65973008, 0.64617739],\n",
       "        [0.66393321, 0.65375136, 0.64119575],\n",
       "        [0.65777741, 0.6475323 , 0.63464946]],\n",
       "\n",
       "       [[0.52045404, 0.51337958, 0.50090603],\n",
       "        [0.53586086, 0.52887511, 0.51784445],\n",
       "        [0.56143313, 0.55345408, 0.54260239],\n",
       "        ...,\n",
       "        [0.70415406, 0.6933387 , 0.68097206],\n",
       "        [0.70577178, 0.69619583, 0.68531358],\n",
       "        [0.7068269 , 0.69795585, 0.68769885]],\n",
       "\n",
       "       [[0.54854515, 0.54235514, 0.53119056],\n",
       "        [0.56920423, 0.56225434, 0.55177052],\n",
       "        [0.59271973, 0.58460589, 0.57393842],\n",
       "        ...,\n",
       "        [0.72177723, 0.71132332, 0.69994665],\n",
       "        [0.72449729, 0.71572043, 0.70605681],\n",
       "        [0.72644111, 0.71895438, 0.7104832 ]]])"
      ]
     },
     "execution_count": 127,
     "metadata": {},
     "output_type": "execute_result"
    }
   ],
   "source": []
  },
  {
   "cell_type": "code",
   "execution_count": 128,
   "id": "0226c375",
   "metadata": {},
   "outputs": [
    {
     "data": {
      "text/plain": [
       "array([[[0.69411767, 0.69803923, 0.74901962],\n",
       "        [0.7019608 , 0.70980394, 0.75686276],\n",
       "        [0.72156864, 0.72156864, 0.76862746],\n",
       "        ...,\n",
       "        [0.627451  , 0.63137257, 0.64313728],\n",
       "        [0.61960787, 0.62352943, 0.65882355],\n",
       "        [0.63529414, 0.64705884, 0.65098041]],\n",
       "\n",
       "       [[0.62352943, 0.6156863 , 0.65490198],\n",
       "        [0.62352943, 0.63137257, 0.68627453],\n",
       "        [0.6156863 , 0.62352943, 0.67843139],\n",
       "        ...,\n",
       "        [0.73725492, 0.72941178, 0.74901962],\n",
       "        [0.75294119, 0.74509805, 0.7647059 ],\n",
       "        [0.72549021, 0.71372551, 0.73725492]],\n",
       "\n",
       "       [[0.41960785, 0.3882353 , 0.39607844],\n",
       "        [0.5411765 , 0.54509807, 0.58431375],\n",
       "        [0.57647061, 0.58039218, 0.61960787],\n",
       "        ...,\n",
       "        [0.76078433, 0.74901962, 0.75686276],\n",
       "        [0.78431374, 0.7764706 , 0.7764706 ],\n",
       "        [0.58039218, 0.58039218, 0.59607846]],\n",
       "\n",
       "       ...,\n",
       "\n",
       "       [[0.50588238, 0.49803922, 0.47450981],\n",
       "        [0.41568628, 0.41568628, 0.40000001],\n",
       "        [0.5411765 , 0.54509807, 0.51372552],\n",
       "        ...,\n",
       "        [0.67843139, 0.66666669, 0.63529414],\n",
       "        [0.67058825, 0.65882355, 0.63921571],\n",
       "        [0.67843139, 0.67058825, 0.63921571]],\n",
       "\n",
       "       [[0.48235294, 0.50588238, 0.42745098],\n",
       "        [0.50588238, 0.51372552, 0.47450981],\n",
       "        [0.56470591, 0.56078434, 0.5411765 ],\n",
       "        ...,\n",
       "        [0.72156864, 0.7019608 , 0.67450982],\n",
       "        [0.73725492, 0.72549021, 0.70588237],\n",
       "        [0.74117649, 0.72549021, 0.70588237]],\n",
       "\n",
       "       [[0.5529412 , 0.56470591, 0.53333336],\n",
       "        [0.627451  , 0.6156863 , 0.60000002],\n",
       "        [0.6156863 , 0.61176473, 0.58039218],\n",
       "        ...,\n",
       "        [0.73725492, 0.72156864, 0.69803923],\n",
       "        [0.73333335, 0.72156864, 0.70588237],\n",
       "        [0.73333335, 0.72941178, 0.71372551]]])"
      ]
     },
     "execution_count": 128,
     "metadata": {},
     "output_type": "execute_result"
    }
   ],
   "source": []
  },
  {
   "cell_type": "code",
   "execution_count": null,
   "id": "cb5a6057",
   "metadata": {},
   "outputs": [],
   "source": []
  }
 ],
 "metadata": {
  "kernelspec": {
   "display_name": "Python 3",
   "language": "python",
   "name": "python3"
  },
  "language_info": {
   "codemirror_mode": {
    "name": "ipython",
    "version": 3
   },
   "file_extension": ".py",
   "mimetype": "text/x-python",
   "name": "python",
   "nbconvert_exporter": "python",
   "pygments_lexer": "ipython3",
   "version": "3.8.8"
  }
 },
 "nbformat": 4,
 "nbformat_minor": 5
}
