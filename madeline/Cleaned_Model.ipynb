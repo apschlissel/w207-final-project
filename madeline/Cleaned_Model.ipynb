{
 "cells": [
  {
   "cell_type": "code",
   "execution_count": 39,
   "id": "61e1db7d",
   "metadata": {},
   "outputs": [],
   "source": [
    "import numpy as np\n",
    "import pandas as pd\n",
    "import os, sys\n",
    "import matplotlib.pyplot as plt\n",
    "import sys\n",
    "from PIL import Image, ImageOps\n",
    "from pathlib import Path\n",
    "from keras.preprocessing.image import img_to_array\n",
    "\n",
    "from keras.datasets import mnist\n",
    "import numpy as np\n",
    "import numpy as np\n",
    "import pandas as pd\n",
    "import os, sys\n",
    "import matplotlib.pyplot as plt\n",
    "import sys\n",
    "from PIL import Image, ImageOps\n",
    "from pathlib import Path\n",
    "\n",
    "from keras.datasets import mnist\n",
    "import numpy as np\n",
    "import matplotlib.pyplot as plt\n",
    "import seaborn as sns\n",
    "\n",
    "import keras\n",
    "from keras.models import Sequential\n",
    "from keras.layers import Dense, Conv2D , MaxPool2D , Flatten , Dropout \n",
    "from keras.preprocessing.image import ImageDataGenerator\n",
    "#from keras.optimizers import Adam\n",
    "\n",
    "from sklearn.metrics import classification_report,confusion_matrix\n",
    "from tensorflow.keras.utils import to_categorical\n",
    "\n",
    "import tensorflow as tf"
   ]
  },
  {
   "cell_type": "code",
   "execution_count": 50,
   "id": "ec5aa447",
   "metadata": {},
   "outputs": [
    {
     "data": {
      "text/plain": [
       "(9912, 100, 100, 3)"
      ]
     },
     "execution_count": 50,
     "metadata": {},
     "output_type": "execute_result"
    }
   ],
   "source": [
    "# importing and resizing image data \n",
    "path = \"/Users/madelinewhitlow/Desktop/MIDS_W207/petfinder-pawpularity-score/train.csv\"\n",
    "df = pd.read_csv(path)\n",
    "df['path'] = '/Users/madelinewhitlow/Desktop/MIDS_W207/petfinder-pawpularity-score/train/'+df['Id'] + '.jpg'\n",
    "csv_path = \"/Users/madelinewhitlow/Desktop/MIDS_W207/petfinder-pawpularity-score/train.csv\"\n",
    "\n",
    "df['img'] = df['path'].apply(lambda x: Image.open(x).convert(\"RGB\").resize((100,100)))\n",
    "df['img_array'] = df['img'].apply(lambda x: img_to_array(x)/255)\n",
    "\n",
    "#print(trainMdata.head())\n",
    "labels=[]\n",
    "imgArr=[]\n",
    "\n",
    "for ind in df.index:\n",
    "    img = df.img_array[0]\n",
    "    imgArr.append(img)\n",
    "    labels.append(df['Pawpularity'][ind])\n",
    "\n",
    "labels = np.array(labels)\n",
    "X_train=np.array(imgArr, dtype=float)\n",
    "X_train.shape"
   ]
  },
  {
   "cell_type": "code",
   "execution_count": 97,
   "id": "06f577f5",
   "metadata": {},
   "outputs": [
    {
     "name": "stdout",
     "output_type": "stream",
     "text": [
      "data shape:  (9912, 100, 100, 3)\n",
      "label shape: (9912,)\n"
     ]
    }
   ],
   "source": [
    "shuffle = np.random.permutation(np.arange(X_train.shape[0]))\n",
    "\n",
    "X_train, labels = X_train[shuffle], labels[shuffle]\n",
    "\n",
    "print('data shape: ', X_train.shape)\n",
    "print('label shape:', labels.shape)\n",
    "\n",
    "# Set some variables to hold test, dev, and training data.\n",
    "test_data, test_labels = X_train[8916:], labels[8916:]\n",
    "dev_data, dev_labels = X_train[7920:8916], labels[7920:8916]\n",
    "train_data, train_labels = X_train[:7921], labels[:7921]\n",
    "\n",
    "\n",
    "test_labels1 = to_categorical(test_labels)\n",
    "train_labels2 = to_categorical(train_labels)\n",
    "train_labels2.shape\n"
   ]
  },
  {
   "cell_type": "code",
   "execution_count": 52,
   "id": "64315603",
   "metadata": {},
   "outputs": [
    {
     "data": {
      "text/plain": [
       "(7921, 101)"
      ]
     },
     "execution_count": 52,
     "metadata": {},
     "output_type": "execute_result"
    }
   ],
   "source": [
    "\n"
   ]
  },
  {
   "cell_type": "code",
   "execution_count": 57,
   "id": "3640d8f7",
   "metadata": {},
   "outputs": [
    {
     "name": "stdout",
     "output_type": "stream",
     "text": [
      "Epoch 1/3\n",
      "248/248 [==============================] - 157s 616ms/step - loss: 4.2735 - accuracy: 0.0288 - val_loss: 4.2365 - val_accuracy: 0.0291\n",
      "Epoch 2/3\n",
      "248/248 [==============================] - 158s 636ms/step - loss: 4.2171 - accuracy: 0.0293 - val_loss: 4.2399 - val_accuracy: 0.0211\n",
      "Epoch 3/3\n",
      "248/248 [==============================] - 141s 568ms/step - loss: 4.2093 - accuracy: 0.0316 - val_loss: 4.2328 - val_accuracy: 0.0351\n",
      "32/32 [==============================] - 4s 125ms/step - loss: 4.2328 - accuracy: 0.0351\n",
      "\n",
      "Test loss: 4.232839107513428\n",
      "Test accuracy: 0.03514056280255318\n"
     ]
    }
   ],
   "source": [
    "\n",
    "from keras.models import Sequential\n",
    "from keras.layers import Dense, Conv2D, Flatten \n",
    "from keras.layers import MaxPooling2D, Dropout\n",
    "model = Sequential()#add model layers\n",
    "model.add(Conv2D(32, kernel_size=(5, 5),\n",
    "                     activation='relu',\n",
    "                     input_shape=(100,100,3)))\n",
    "model.add(MaxPooling2D(pool_size=(2, 2)))\n",
    "# add second convolutional layer with 20 filters\n",
    "model.add(Conv2D(64, (5, 5), activation='relu'))\n",
    "    \n",
    "# add 2D pooling layer\n",
    "model.add(MaxPooling2D(pool_size=(2, 2)))\n",
    "    \n",
    "# flatten data\n",
    "model.add(Flatten())\n",
    "    \n",
    "# add a dense all-to-all relu layer\n",
    "model.add(Dense(1024, activation='relu'))\n",
    "    \n",
    "# apply dropout with rate 0.5\n",
    "model.add(Dropout(0.5))\n",
    "    \n",
    "# soft-max layer\n",
    "model.add(Dense(101, activation='softmax'))\n",
    "#compile model using accuracy to measure model performance\n",
    "model.compile(optimizer='adam', loss='categorical_crossentropy', metrics=['accuracy'])\n",
    "#train the model\n",
    "model.fit(train_data,train_labels2, validation_data=(test_data, test_labels1), epochs=3)\n",
    "# evaluate the model\n",
    "score = model.evaluate(test_data, test_labels1, verbose=1)\n",
    "# print performance\n",
    "print()\n",
    "print('Test loss:', score[0])\n",
    "print('Test accuracy:', score[1])\n"
   ]
  },
  {
   "cell_type": "code",
   "execution_count": 88,
   "id": "141e43da",
   "metadata": {},
   "outputs": [],
   "source": [
    "import time\n",
    "import numpy as np\n",
    "import pandas as pd\n",
    "import matplotlib.pyplot as plt\n",
    "from matplotlib.ticker import MultipleLocator\n",
    "from sklearn.pipeline import Pipeline\n",
    "from sklearn.datasets import fetch_openml\n",
    "from sklearn.neighbors import KNeighborsClassifier\n",
    "from sklearn.metrics import confusion_matrix\n",
    "from sklearn.linear_model import LinearRegression\n",
    "from sklearn.naive_bayes import BernoulliNB\n",
    "from sklearn.naive_bayes import MultinomialNB\n",
    "from sklearn.naive_bayes import GaussianNB\n",
    "from sklearn.model_selection import GridSearchCV\n",
    "from sklearn.metrics import classification_report\n",
    "from sklearn import metrics\n"
   ]
  },
  {
   "cell_type": "code",
   "execution_count": 100,
   "id": "719d7029",
   "metadata": {},
   "outputs": [
    {
     "name": "stdout",
     "output_type": "stream",
     "text": [
      "accuracy:  0.008032128514056224\n"
     ]
    }
   ],
   "source": [
    "train_data_temp = train_data.reshape(7921,30000)\n",
    "test_data_temp = test_data.reshape(996, 30000)\n",
    "\n",
    "model1 = KNeighborsClassifier(n_neighbors=1)\n",
    "model1.fit(train_data_temp, train_labels)\n",
    "test_predicted_labels = model1.predict(test_data_temp)\n",
    "print(\"accuracy: \",metrics.accuracy_score(test_labels, test_predicted_labels))\n"
   ]
  },
  {
   "cell_type": "code",
   "execution_count": 99,
   "id": "cc903339",
   "metadata": {},
   "outputs": [
    {
     "name": "stdout",
     "output_type": "stream",
     "text": [
      "Bernoulli Model (Binary) accuracy: 0.0231\n"
     ]
    }
   ],
   "source": [
    "naive_bayes_model1 = BernoulliNB()\n",
    "naive_bayes_model1.fit(train_data_temp, train_labels)\n",
    "print ('Bernoulli Model accuracy: %3.4f' %naive_bayes_model1.score(test_data_temp, test_labels))"
   ]
  },
  {
   "cell_type": "code",
   "execution_count": 98,
   "id": "f2bbc6aa",
   "metadata": {},
   "outputs": [
    {
     "data": {
      "text/plain": [
       "(7921,)"
      ]
     },
     "execution_count": 98,
     "metadata": {},
     "output_type": "execute_result"
    }
   ],
   "source": []
  },
  {
   "cell_type": "code",
   "execution_count": null,
   "id": "22b4571c",
   "metadata": {},
   "outputs": [],
   "source": []
  }
 ],
 "metadata": {
  "kernelspec": {
   "display_name": "Python 3",
   "language": "python",
   "name": "python3"
  },
  "language_info": {
   "codemirror_mode": {
    "name": "ipython",
    "version": 3
   },
   "file_extension": ".py",
   "mimetype": "text/x-python",
   "name": "python",
   "nbconvert_exporter": "python",
   "pygments_lexer": "ipython3",
   "version": "3.8.8"
  }
 },
 "nbformat": 4,
 "nbformat_minor": 5
}
